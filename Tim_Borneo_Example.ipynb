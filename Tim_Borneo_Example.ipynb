{
 "cells": [
  {
   "cell_type": "markdown",
   "metadata": {},
   "source": [
    "## Effects of ENSO and IOD on Borneo rainfall.\n",
    "\n",
    "Here we investigate the effects of El Nino Southern Oscillation (ENSO) and Indian Ocean Dipole (IOD) on mean precipitaion over Indonesian Borneo (BorneoP) in the boreal summer months (JJA)."
   ]
  },
  {
   "cell_type": "code",
   "execution_count": 1,
   "metadata": {},
   "outputs": [],
   "source": [
    "import matplotlib.pyplot as plt\n",
    "%matplotlib inline\n",
    "\n",
    "import numpy as np\n",
    "\n",
    "import os\n",
    "\n",
    "import iris\n",
    "import iris.coord_categorisation\n",
    "import datetime\n",
    "from iris.time import PartialDateTime\n",
    "\n",
    "import iris.quickplot as qplt\n",
    "\n",
    "from iris.pandas import as_cube, as_series, as_data_frame\n",
    "import cf_units\n",
    "\n",
    "\n",
    "from scipy import signal\n",
    "import scipy.stats as stats\n",
    "\n",
    "import statsmodels.api as sm\n",
    "import pandas as pd\n",
    "\n",
    "import copy\n",
    "\n",
    "import sklearn.linear_model as ML\n"
   ]
  },
  {
   "cell_type": "markdown",
   "metadata": {},
   "source": [
    "# Load data JJA means"
   ]
  },
  {
   "cell_type": "code",
   "execution_count": null,
   "metadata": {},
   "outputs": [],
   "source": [
    "year_constraint = iris.Constraint(season_year=lambda v: v > 1980 and v <= 2014 )"
   ]
  },
  {
   "cell_type": "code",
   "execution_count": 2,
   "metadata": {},
   "outputs": [],
   "source": [
    "precip_Borneo = iris.load_cube('Borneo_precip_chirps_mean.nc', 'Climate Hazards group InfraRed Precipitation with Stations')\n",
    "precip_Borneo = precip_Borneo.extract(year_constraint)"
   ]
  },
  {
   "cell_type": "code",
   "execution_count": 3,
   "metadata": {},
   "outputs": [],
   "source": [
    "enso           = iris.load_cube(DATA_PATH + \"enso_jja.nc\") "
   ]
  },
  {
   "cell_type": "code",
   "execution_count": 4,
   "metadata": {},
   "outputs": [],
   "source": [
    "iod             = iris.load_cube(DATA_PATH + \"iod_jja.nc\") "
   ]
  },
  {
   "cell_type": "code",
   "execution_count": 20,
   "metadata": {},
   "outputs": [
    {
     "name": "stdout",
     "output_type": "stream",
     "text": [
      "(70,) (70,) (70,) (70,)\n"
     ]
    }
   ],
   "source": [
    "print(np.shape(precip_Borneo),np.shape(enso),np.shape(iod))"
   ]
  },
  {
   "cell_type": "markdown",
   "metadata": {},
   "source": [
    "## Standardize and Detrend"
   ]
  },
  {
   "cell_type": "code",
   "execution_count": 9,
   "metadata": {},
   "outputs": [
    {
     "name": "stdout",
     "output_type": "stream",
     "text": [
      "1.0\n"
     ]
    },
    {
     "data": {
      "image/png": "[encoded data removed]",
      "text/plain": [
       "<Figure size 576x576 with 1 Axes>"
      ]
     },
     "metadata": {
      "needs_background": "light"
     },
     "output_type": "display_data"
    }
   ],
   "source": [
    "enso_trend = enso - signal.detrend(enso.data)\n",
    "enso_det = enso - enso_trend\n",
    "ENSO = (enso_det - np.mean(enso_det.data))/np.std(enso_det.data)\n",
    "\n",
    "pBorneo_trend = precip_Borneo - signal.detrend(precip_Borneo.data)\n",
    "pBorneo_det = precip_Borneo  - pBorneo_trend\n",
    "PBORNEO = (pBorneo_det - np.mean(pBorneo_det.data))/np.std(pBorneo_det.data)\n",
    "\n",
    "iod_trend = iod - signal.detrend(iod.data)\n",
    "iod_det = iod  - iod_trend\n",
    "DMI = (iod_det  - np.mean(iod_det .data))/np.std(iod_det .data)\n",
    "\n",
    "Vars = {'enso':ENSO , 'pBorneo': PBORNEO,  'dmi':DMI}\n",
    "\n",
    "# To verify whether variables are standardized and detrended\n",
    "fig = plt.figure(figsize=(8, 8))\n",
    "plt.subplot(311)\n",
    "qplt.plot(ENSO)\n",
    "plt.title('ENSO')\n",
    "print (np.std (ENSO.data))"
   ]
  },
  {
   "cell_type": "markdown",
   "metadata": {},
   "source": [
    "# Preliminary Ananlysis\n",
    "## Bivariate regression/correlation coeff"
   ]
  },
  {
   "cell_type": "code",
   "execution_count": 47,
   "metadata": {},
   "outputs": [],
   "source": [
    "Reg_Enso  = {'enso':0 , 'pBorneo': 0, 'dmi':0, 'IndonesianSST':0}\n",
    "Reg_pBorneo   = {'enso':0,  'pBorneo': 0,  'dmi':0, 'IndonesianSST':0}\n",
    "Reg_dmi   = {'enso':0,  'pBorneo': 0, 'dmi':0, 'IndonesianSST':0}\n",
    "\n",
    "Regs = {'enso':Reg_Enso , 'pBorneo': Reg_pBorneo,  'dmi':Reg_dmi}\n",
    "\n",
    "Corrs = {'enso':Reg_Enso , 'pBorneo': Reg_pBorneo,  'dmi':Reg_dmi}"
   ]
  },
  {
   "cell_type": "code",
   "execution_count": 48,
   "metadata": {},
   "outputs": [],
   "source": [
    "for var1 in Vars:\n",
    "    var1_data = Vars[var1].data\n",
    "    for var2 in Vars:\n",
    "        var2_data = Vars[var2].data\n",
    "        \n",
    "        res = stats.linregress(var1_data,var2_data)   # Y,X\n",
    "\n",
    "        Regs[var1][var2]  = np.round(res[0],decimals=3)\n",
    "        Corrs[var1][var2] = np.round(res[2],decimals=3)\n",
    "        "
   ]
  },
  {
   "cell_type": "code",
   "execution_count": 49,
   "metadata": {},
   "outputs": [
    {
     "name": "stdout",
     "output_type": "stream",
     "text": [
      "enso  correlations:\n",
      "{'enso': 1.0, 'pBorneo': -0.516, 'dmi': 0.239, 'IndonesianSST': -0.345}\n",
      "pBorneo  correlations:\n",
      "{'enso': -0.516, 'pBorneo': 1.0, 'dmi': -0.209, 'IndonesianSST': 0.285}\n",
      "dmi  correlations:\n",
      "{'enso': 0.239, 'pBorneo': -0.209, 'dmi': 1.0, 'IndonesianSST': -0.735}\n",
      "IndonesianSST  correlations:\n",
      "{'enso': -0.345, 'pBorneo': 0.285, 'dmi': -0.735, 'IndonesianSST': 1.0}\n"
     ]
    }
   ],
   "source": [
    "for var1 in Vars:\n",
    "    print(var1,' correlations:')\n",
    "    print(Corrs[var1])"
   ]
  },
  {
   "cell_type": "code",
   "execution_count": 50,
   "metadata": {},
   "outputs": [
    {
     "name": "stdout",
     "output_type": "stream",
     "text": [
      "Y =  enso  regressed on X:\n",
      "{'enso': 1.0, 'pBorneo': -0.516, 'dmi': 0.239, 'IndonesianSST': -0.345}\n",
      "Y =  pBorneo  regressed on X:\n",
      "{'enso': -0.516, 'pBorneo': 1.0, 'dmi': -0.209, 'IndonesianSST': 0.285}\n",
      "Y =  dmi  regressed on X:\n",
      "{'enso': 0.239, 'pBorneo': -0.209, 'dmi': 1.0, 'IndonesianSST': -0.735}\n",
      "Y =  IndonesianSST  regressed on X:\n",
      "{'enso': -0.345, 'pBorneo': 0.285, 'dmi': -0.735, 'IndonesianSST': 1.0}\n"
     ]
    }
   ],
   "source": [
    "for var1 in Vars:\n",
    "    print('Y = ',var1,' regressed on X:')\n",
    "    print(Regs[var1])"
   ]
  },
  {
   "cell_type": "markdown",
   "metadata": {},
   "source": [
    "# IOD --> pBorneo <-- ENSO \n",
    "## Regressions for each var that has parents (i.e. pBorneo)"
   ]
  },
  {
   "cell_type": "code",
   "execution_count": 70,
   "metadata": {},
   "outputs": [
    {
     "name": "stdout",
     "output_type": "stream",
     "text": [
      "Causal effect on Borneo precip (ENSO only)\n",
      "{'enso': -0.52}\n"
     ]
    }
   ],
   "source": [
    "# Precip TARGET\n",
    "Y_p = Vars['pBorneo'].data\n",
    "X_p = np.stack([Vars['enso'].data]).T\n",
    "\n",
    "reg_p = ML.LinearRegression(fit_intercept=False, normalize=False).fit(X_p, Y_p)\n",
    "\n",
    "CausalEffect_precip = {'enso': round(reg_p.coef_[0],2)}\n",
    "\n",
    "print('Causal effect on Borneo precip (ENSO only)')\n",
    "print(CausalEffect_precip )"
   ]
  },
  {
   "cell_type": "code",
   "execution_count": 71,
   "metadata": {},
   "outputs": [
    {
     "name": "stdout",
     "output_type": "stream",
     "text": [
      "Causal effect on Borneo precip (IOD only)\n",
      "{'dmi': -0.21}\n"
     ]
    }
   ],
   "source": [
    "# Precip TARGET\n",
    "Y_p = Vars['pBorneo'].data\n",
    "X_p = np.stack([Vars['dmi'].data]).T\n",
    "\n",
    "reg_p = ML.LinearRegression(fit_intercept=False, normalize=False).fit(X_p, Y_p)\n",
    "\n",
    "CausalEffect_precip = {'dmi': round(reg_p.coef_[0],2)}\n",
    "\n",
    "print('Causal effect on Borneo precip (IOD only)')\n",
    "print(CausalEffect_precip )"
   ]
  },
  {
   "cell_type": "code",
   "execution_count": 72,
   "metadata": {},
   "outputs": [
    {
     "name": "stdout",
     "output_type": "stream",
     "text": [
      "Causal effect on Borneo precip (all drivers)\n",
      "{'IndonesianSST': 0.11, 'enso': -0.47, 'dmi': -0.01}\n"
     ]
    }
   ],
   "source": [
    "# Precip TARGET\n",
    "Y_p = Vars['pBorneo'].data\n",
    "X_p = np.stack([Vars['enso'].data, Vars['dmi'].data]).T\n",
    "\n",
    "reg_p = ML.LinearRegression(fit_intercept=False, normalize=False).fit(X_p, Y_p)\n",
    "\n",
    "CausalEffect_precip = {'IndonesianSST': round(reg_p.coef_[0],2), 'enso':round(reg_p.coef_[1],2), 'dmi':round(reg_p.coef_[2],2)}\n",
    "\n",
    "print('Causal effect on Borneo precip (all drivers)')\n",
    "print(CausalEffect_precip )"
   ]
  }
 ],
 "metadata": {
  "kernelspec": {
   "display_name": "Python 3 (ipykernel)",
   "language": "python",
   "name": "python3"
  },
  "language_info": {
   "codemirror_mode": {
    "name": "ipython",
    "version": 3
   },
   "file_extension": ".py",
   "mimetype": "text/x-python",
   "name": "python",
   "nbconvert_exporter": "python",
   "pygments_lexer": "ipython3",
   "version": "3.7.1"
  }
 },
 "nbformat": 4,
 "nbformat_minor": 4
}
