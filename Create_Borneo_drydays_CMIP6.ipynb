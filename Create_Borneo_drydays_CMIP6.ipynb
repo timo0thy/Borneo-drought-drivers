{
 "cells": [
  {
   "cell_type": "markdown",
   "metadata": {},
   "source": [
    "# Example of Loading and pre-processing data for causality project\n",
    "\n",
    "#### Using Iris for NetCDF data load and processing; Using xclim (and xarray) for calculating the maximum number of consecutive dry days (MCDD) using daily rainfall simulated by an ensemble of CMIP6 models (based on SSP245 and SSP585 scenarios) as input data"
   ]
  },
  {
   "cell_type": "code",
   "execution_count": 1,
   "metadata": {
    "scrolled": true
   },
   "outputs": [
    {
     "name": "stderr",
     "output_type": "stream",
     "text": [
      "C:\\Users\\user\\Anaconda3\\envs\\xclim_env\\lib\\site-packages\\pyproj\\__init__.py:89: UserWarning: pyproj unable to set database path.\n",
      "  _pyproj_global_context_initialize()\n"
     ]
    }
   ],
   "source": [
    "import numpy as np\n",
    "import pandas as pd\n",
    "\n",
    "import matplotlib.pyplot as plt\n",
    "import matplotlib.cm as mpl_cm\n",
    "\n",
    "import xarray as xr\n",
    "\n",
    "import iris\n",
    "import iris.coord_categorisation as coord_cat\n",
    "import iris.plot as iplt\n",
    "import iris.quickplot as qplt\n",
    "import cf_units\n",
    "\n",
    "import xclim"
   ]
  },
  {
   "cell_type": "code",
   "execution_count": 4,
   "metadata": {},
   "outputs": [
    {
     "name": "stdout",
     "output_type": "stream",
     "text": [
      "ACCESS-CM\n",
      "ACCESS-ESM\n"
     ]
    },
    {
     "name": "stderr",
     "output_type": "stream",
     "text": [
      "C:\\Users\\user\\Anaconda3\\envs\\xclim_env\\lib\\site-packages\\dask\\array\\reductions.py:608: RuntimeWarning: All-NaN slice encountered\n",
      "  return np.nanmax(x_chunk, axis=axis, keepdims=keepdims)\n"
     ]
    },
    {
     "name": "stdout",
     "output_type": "stream",
     "text": [
      "CanESM\n",
      "CNRM-CM\n",
      "CNRM-ESM\n",
      "FGOALS-g3\n"
     ]
    },
    {
     "name": "stderr",
     "output_type": "stream",
     "text": [
      "C:\\Users\\user\\Anaconda3\\envs\\xclim_env\\lib\\site-packages\\dask\\array\\reductions.py:608: RuntimeWarning: All-NaN slice encountered\n",
      "  return np.nanmax(x_chunk, axis=axis, keepdims=keepdims)\n"
     ]
    },
    {
     "name": "stdout",
     "output_type": "stream",
     "text": [
      "GFDL\n",
      "HadGEM3-GC31-LL\n",
      "INM-CM4\n"
     ]
    },
    {
     "name": "stderr",
     "output_type": "stream",
     "text": [
      "C:\\Users\\user\\Anaconda3\\envs\\xclim_env\\lib\\site-packages\\dask\\array\\reductions.py:608: RuntimeWarning: All-NaN slice encountered\n",
      "  return np.nanmax(x_chunk, axis=axis, keepdims=keepdims)\n"
     ]
    },
    {
     "name": "stdout",
     "output_type": "stream",
     "text": [
      "INM-CM5\n"
     ]
    },
    {
     "name": "stderr",
     "output_type": "stream",
     "text": [
      "C:\\Users\\user\\Anaconda3\\envs\\xclim_env\\lib\\site-packages\\dask\\array\\reductions.py:608: RuntimeWarning: All-NaN slice encountered\n",
      "  return np.nanmax(x_chunk, axis=axis, keepdims=keepdims)\n"
     ]
    },
    {
     "name": "stdout",
     "output_type": "stream",
     "text": [
      "IPSL\n"
     ]
    },
    {
     "name": "stderr",
     "output_type": "stream",
     "text": [
      "C:\\Users\\user\\Anaconda3\\envs\\xclim_env\\lib\\site-packages\\dask\\array\\reductions.py:608: RuntimeWarning: All-NaN slice encountered\n",
      "  return np.nanmax(x_chunk, axis=axis, keepdims=keepdims)\n"
     ]
    },
    {
     "name": "stdout",
     "output_type": "stream",
     "text": [
      "MIROC\n"
     ]
    },
    {
     "name": "stderr",
     "output_type": "stream",
     "text": [
      "C:\\Users\\user\\Anaconda3\\envs\\xclim_env\\lib\\site-packages\\dask\\array\\reductions.py:608: RuntimeWarning: All-NaN slice encountered\n",
      "  return np.nanmax(x_chunk, axis=axis, keepdims=keepdims)\n"
     ]
    },
    {
     "name": "stdout",
     "output_type": "stream",
     "text": [
      "MPI-ESM1-2-LR\n",
      "MRI\n"
     ]
    },
    {
     "name": "stderr",
     "output_type": "stream",
     "text": [
      "C:\\Users\\user\\Anaconda3\\envs\\xclim_env\\lib\\site-packages\\dask\\array\\reductions.py:608: RuntimeWarning: All-NaN slice encountered\n",
      "  return np.nanmax(x_chunk, axis=axis, keepdims=keepdims)\n"
     ]
    },
    {
     "name": "stdout",
     "output_type": "stream",
     "text": [
      "NESM\n",
      "NorESM2-LM\n"
     ]
    },
    {
     "name": "stderr",
     "output_type": "stream",
     "text": [
      "C:\\Users\\user\\Anaconda3\\envs\\xclim_env\\lib\\site-packages\\dask\\array\\reductions.py:608: RuntimeWarning: All-NaN slice encountered\n",
      "  return np.nanmax(x_chunk, axis=axis, keepdims=keepdims)\n"
     ]
    },
    {
     "name": "stdout",
     "output_type": "stream",
     "text": [
      "NorESM2-MM\n"
     ]
    },
    {
     "name": "stderr",
     "output_type": "stream",
     "text": [
      "C:\\Users\\user\\Anaconda3\\envs\\xclim_env\\lib\\site-packages\\dask\\array\\reductions.py:608: RuntimeWarning: All-NaN slice encountered\n",
      "  return np.nanmax(x_chunk, axis=axis, keepdims=keepdims)\n"
     ]
    },
    {
     "name": "stdout",
     "output_type": "stream",
     "text": [
      "TaiESM\n"
     ]
    },
    {
     "name": "stderr",
     "output_type": "stream",
     "text": [
      "C:\\Users\\user\\Anaconda3\\envs\\xclim_env\\lib\\site-packages\\dask\\array\\reductions.py:608: RuntimeWarning: All-NaN slice encountered\n",
      "  return np.nanmax(x_chunk, axis=axis, keepdims=keepdims)\n"
     ]
    },
    {
     "name": "stdout",
     "output_type": "stream",
     "text": [
      "UKESM\n"
     ]
    },
    {
     "name": "stderr",
     "output_type": "stream",
     "text": [
      "C:\\Users\\user\\Anaconda3\\envs\\xclim_env\\lib\\site-packages\\dask\\array\\reductions.py:608: RuntimeWarning: All-NaN slice encountered\n",
      "  return np.nanmax(x_chunk, axis=axis, keepdims=keepdims)\n"
     ]
    }
   ],
   "source": [
    "# Calculate maximum number of consecutive dry days for each model and save it\n",
    "# CMIP6 daily rainfall input data retrieved from JASMIN HPC - https://help.ceda.ac.uk/article/4801-cmip6-data\n",
    "\n",
    "DATA_PATH = '/CMIP6/pr/'\n",
    "\n",
    "models = ['ACCESS-CM', 'ACCESS-ESM', 'CanESM',\n",
    "          'CNRM-CM', 'CNRM-ESM', 'FGOALS-g3', \n",
    "          'GFDL', 'HadGEM3-GC31-LL', 'INM-CM4', 'INM-CM5', \n",
    "          'IPSL', 'MIROC', 'MPI-ESM1-2-LR', 'MRI', 'NESM', 'NorESM2-LM',\n",
    "          'NorESM2-MM', 'TaiESM', 'UKESM', 'CMCC-CM', 'CMCC-ESM', 'KIOST']\n",
    "\n",
    "scenarios = ['ssp245_nf', 'ssp245_ff', 'ssp585_nf', 'ssp585_ff']\n",
    "\n",
    "for model in models[0:]:   # remove the '2' for all models\n",
    "    for scenario in scenarios[0:]:\n",
    "        print(model)\n",
    "        print (scenario)\n",
    "        path = DATA_PATH + model + '/'\n",
    "        precip_path = xr.open_mfdataset(path + 'pr_day_' + model + '_' + scenario + '_daily.nc') # For SSP245 data from 2021-2060\n",
    "        s_Borneo_jja = xclim.core.calendar.select_time (precip_path.pr, season = 'JJA')\n",
    "        s_Borneo_jja = s_Borneo_jja.fillna(1)\n",
    "        max_dry_days = xclim.indicators.atmos.maximum_consecutive_dry_days(pr = s_Borneo_jja, thresh = '1 mm/day') # Maximum consecutive dry days\n",
    "        max_dry_days.to_netcdf (path + '' + model + '_consec_dry_days_' + scenario + '.nc')"
   ]
  },
  {
   "cell_type": "code",
   "execution_count": 10,
   "metadata": {},
   "outputs": [
    {
     "name": "stdout",
     "output_type": "stream",
     "text": [
      "CanESM\n",
      "ssp245_nf\n",
      "12.0\n",
      "CanESM\n",
      "ssp245_ff\n",
      "11.380555555555556\n"
     ]
    },
    {
     "name": "stderr",
     "output_type": "stream",
     "text": [
      "C:\\Users\\user\\Anaconda3\\envs\\xclim_env\\lib\\site-packages\\iris\\coords.py:2220: UserWarning: Collapsing a non-contiguous coordinate. Metadata may not be fully descriptive for 'time'.\n",
      "  warnings.warn(msg.format(self.name()))\n",
      "C:\\Users\\user\\Anaconda3\\envs\\xclim_env\\lib\\site-packages\\iris\\coords.py:2220: UserWarning: Collapsing a non-contiguous coordinate. Metadata may not be fully descriptive for 'time'.\n",
      "  warnings.warn(msg.format(self.name()))\n",
      "C:\\Users\\user\\Anaconda3\\envs\\xclim_env\\lib\\site-packages\\iris\\coords.py:2220: UserWarning: Collapsing a non-contiguous coordinate. Metadata may not be fully descriptive for 'time'.\n",
      "  warnings.warn(msg.format(self.name()))\n"
     ]
    },
    {
     "name": "stdout",
     "output_type": "stream",
     "text": [
      "CanESM\n",
      "ssp585_ff\n",
      "21.73888888888889\n",
      "CNRM-CM\n",
      "ssp245_nf\n",
      "11.21214285714286\n"
     ]
    },
    {
     "name": "stderr",
     "output_type": "stream",
     "text": [
      "C:\\Users\\user\\Anaconda3\\envs\\xclim_env\\lib\\site-packages\\iris\\coords.py:2220: UserWarning: Collapsing a non-contiguous coordinate. Metadata may not be fully descriptive for 'time'.\n",
      "  warnings.warn(msg.format(self.name()))\n",
      "C:\\Users\\user\\Anaconda3\\envs\\xclim_env\\lib\\site-packages\\iris\\coords.py:2220: UserWarning: Collapsing a non-contiguous coordinate. Metadata may not be fully descriptive for 'time'.\n",
      "  warnings.warn(msg.format(self.name()))\n"
     ]
    },
    {
     "name": "stdout",
     "output_type": "stream",
     "text": [
      "CNRM-CM\n",
      "ssp245_ff\n",
      "11.474285714285713\n",
      "CNRM-CM\n",
      "ssp585_ff\n",
      "12.037857142857142\n"
     ]
    },
    {
     "name": "stderr",
     "output_type": "stream",
     "text": [
      "C:\\Users\\user\\Anaconda3\\envs\\xclim_env\\lib\\site-packages\\iris\\coords.py:2220: UserWarning: Collapsing a non-contiguous coordinate. Metadata may not be fully descriptive for 'time'.\n",
      "  warnings.warn(msg.format(self.name()))\n",
      "C:\\Users\\user\\Anaconda3\\envs\\xclim_env\\lib\\site-packages\\iris\\coords.py:2220: UserWarning: Collapsing a non-contiguous coordinate. Metadata may not be fully descriptive for 'time'.\n",
      "  warnings.warn(msg.format(self.name()))\n"
     ]
    },
    {
     "name": "stdout",
     "output_type": "stream",
     "text": [
      "CNRM-ESM\n",
      "ssp245_nf\n",
      "11.465714285714286\n",
      "CNRM-ESM\n",
      "ssp245_ff\n"
     ]
    },
    {
     "name": "stderr",
     "output_type": "stream",
     "text": [
      "C:\\Users\\user\\Anaconda3\\envs\\xclim_env\\lib\\site-packages\\iris\\coords.py:2220: UserWarning: Collapsing a non-contiguous coordinate. Metadata may not be fully descriptive for 'time'.\n",
      "  warnings.warn(msg.format(self.name()))\n",
      "C:\\Users\\user\\Anaconda3\\envs\\xclim_env\\lib\\site-packages\\iris\\coords.py:2220: UserWarning: Collapsing a non-contiguous coordinate. Metadata may not be fully descriptive for 'time'.\n",
      "  warnings.warn(msg.format(self.name()))\n"
     ]
    },
    {
     "name": "stdout",
     "output_type": "stream",
     "text": [
      "11.633571428571429\n",
      "CNRM-ESM\n",
      "ssp585_ff\n",
      "11.168571428571429\n",
      "FGOALS-g3\n",
      "ssp245_nf\n"
     ]
    },
    {
     "name": "stderr",
     "output_type": "stream",
     "text": [
      "C:\\Users\\user\\Anaconda3\\envs\\xclim_env\\lib\\site-packages\\iris\\coords.py:2220: UserWarning: Collapsing a non-contiguous coordinate. Metadata may not be fully descriptive for 'time'.\n",
      "  warnings.warn(msg.format(self.name()))\n",
      "C:\\Users\\user\\Anaconda3\\envs\\xclim_env\\lib\\site-packages\\iris\\coords.py:2220: UserWarning: Collapsing a non-contiguous coordinate. Metadata may not be fully descriptive for 'time'.\n",
      "  warnings.warn(msg.format(self.name()))\n"
     ]
    },
    {
     "name": "stdout",
     "output_type": "stream",
     "text": [
      "6.8025\n",
      "FGOALS-g3\n",
      "ssp245_ff\n",
      "6.9037500000000005\n",
      "FGOALS-g3\n",
      "ssp585_ff\n"
     ]
    },
    {
     "name": "stderr",
     "output_type": "stream",
     "text": [
      "C:\\Users\\user\\Anaconda3\\envs\\xclim_env\\lib\\site-packages\\iris\\coords.py:2220: UserWarning: Collapsing a non-contiguous coordinate. Metadata may not be fully descriptive for 'time'.\n",
      "  warnings.warn(msg.format(self.name()))\n"
     ]
    },
    {
     "name": "stdout",
     "output_type": "stream",
     "text": [
      "7.03125\n",
      "GFDL\n",
      "ssp245_nf\n",
      "7.926953125000001\n"
     ]
    },
    {
     "name": "stderr",
     "output_type": "stream",
     "text": [
      "C:\\Users\\user\\Anaconda3\\envs\\xclim_env\\lib\\site-packages\\iris\\coords.py:2220: UserWarning: Collapsing a non-contiguous coordinate. Metadata may not be fully descriptive for 'time'.\n",
      "  warnings.warn(msg.format(self.name()))\n",
      "C:\\Users\\user\\Anaconda3\\envs\\xclim_env\\lib\\site-packages\\iris\\coords.py:2220: UserWarning: Collapsing a non-contiguous coordinate. Metadata may not be fully descriptive for 'time'.\n",
      "  warnings.warn(msg.format(self.name()))\n"
     ]
    },
    {
     "name": "stdout",
     "output_type": "stream",
     "text": [
      "GFDL\n",
      "ssp245_ff\n",
      "9.250781250000001\n",
      "GFDL\n",
      "ssp585_ff\n"
     ]
    },
    {
     "name": "stderr",
     "output_type": "stream",
     "text": [
      "C:\\Users\\user\\Anaconda3\\envs\\xclim_env\\lib\\site-packages\\iris\\coords.py:2220: UserWarning: Collapsing a non-contiguous coordinate. Metadata may not be fully descriptive for 'time'.\n",
      "  warnings.warn(msg.format(self.name()))\n",
      "C:\\Users\\user\\Anaconda3\\envs\\xclim_env\\lib\\site-packages\\iris\\coords.py:2220: UserWarning: Collapsing a non-contiguous coordinate. Metadata may not be fully descriptive for 'time'.\n",
      "  warnings.warn(msg.format(self.name()))\n"
     ]
    },
    {
     "name": "stdout",
     "output_type": "stream",
     "text": [
      "9.204296875\n",
      "HadGEM3-GC31-LL\n",
      "ssp245_nf\n",
      "14.595714285714285\n",
      "HadGEM3-GC31-LL\n",
      "ssp245_ff\n"
     ]
    },
    {
     "name": "stderr",
     "output_type": "stream",
     "text": [
      "C:\\Users\\user\\Anaconda3\\envs\\xclim_env\\lib\\site-packages\\iris\\coords.py:2220: UserWarning: Collapsing a non-contiguous coordinate. Metadata may not be fully descriptive for 'time'.\n",
      "  warnings.warn(msg.format(self.name()))\n",
      "C:\\Users\\user\\Anaconda3\\envs\\xclim_env\\lib\\site-packages\\iris\\coords.py:2220: UserWarning: Collapsing a non-contiguous coordinate. Metadata may not be fully descriptive for 'time'.\n",
      "  warnings.warn(msg.format(self.name()))\n"
     ]
    },
    {
     "name": "stdout",
     "output_type": "stream",
     "text": [
      "15.559285714285716\n",
      "HadGEM3-GC31-LL\n",
      "ssp585_ff\n",
      "24.099999999999998\n",
      "INM-CM4\n",
      "ssp245_nf\n"
     ]
    },
    {
     "name": "stderr",
     "output_type": "stream",
     "text": [
      "C:\\Users\\user\\Anaconda3\\envs\\xclim_env\\lib\\site-packages\\iris\\coords.py:2220: UserWarning: Collapsing a non-contiguous coordinate. Metadata may not be fully descriptive for 'time'.\n",
      "  warnings.warn(msg.format(self.name()))\n",
      "C:\\Users\\user\\Anaconda3\\envs\\xclim_env\\lib\\site-packages\\iris\\coords.py:2220: UserWarning: Collapsing a non-contiguous coordinate. Metadata may not be fully descriptive for 'time'.\n",
      "  warnings.warn(msg.format(self.name()))\n"
     ]
    },
    {
     "name": "stdout",
     "output_type": "stream",
     "text": [
      "1.4459999999999997\n",
      "INM-CM4\n",
      "ssp245_ff\n",
      "1.386\n",
      "INM-CM4\n",
      "ssp585_ff\n",
      "1.3259999999999998\n",
      "INM-CM5\n",
      "ssp245_nf\n",
      "2.414\n",
      "INM-CM5\n",
      "ssp245_ff\n"
     ]
    },
    {
     "name": "stderr",
     "output_type": "stream",
     "text": [
      "C:\\Users\\user\\Anaconda3\\envs\\xclim_env\\lib\\site-packages\\iris\\coords.py:2220: UserWarning: Collapsing a non-contiguous coordinate. Metadata may not be fully descriptive for 'time'.\n",
      "  warnings.warn(msg.format(self.name()))\n",
      "C:\\Users\\user\\Anaconda3\\envs\\xclim_env\\lib\\site-packages\\iris\\coords.py:2220: UserWarning: Collapsing a non-contiguous coordinate. Metadata may not be fully descriptive for 'time'.\n",
      "  warnings.warn(msg.format(self.name()))\n",
      "C:\\Users\\user\\Anaconda3\\envs\\xclim_env\\lib\\site-packages\\iris\\coords.py:2220: UserWarning: Collapsing a non-contiguous coordinate. Metadata may not be fully descriptive for 'time'.\n",
      "  warnings.warn(msg.format(self.name()))\n",
      "C:\\Users\\user\\Anaconda3\\envs\\xclim_env\\lib\\site-packages\\iris\\coords.py:2220: UserWarning: Collapsing a non-contiguous coordinate. Metadata may not be fully descriptive for 'time'.\n",
      "  warnings.warn(msg.format(self.name()))\n"
     ]
    },
    {
     "name": "stdout",
     "output_type": "stream",
     "text": [
      "2.197\n",
      "INM-CM5\n",
      "ssp585_ff\n",
      "2.517\n",
      "MIROC\n",
      "ssp245_nf\n",
      "7.908571428571429\n",
      "MIROC\n",
      "ssp245_ff\n"
     ]
    },
    {
     "name": "stderr",
     "output_type": "stream",
     "text": [
      "C:\\Users\\user\\Anaconda3\\envs\\xclim_env\\lib\\site-packages\\iris\\coords.py:2220: UserWarning: Collapsing a non-contiguous coordinate. Metadata may not be fully descriptive for 'time'.\n",
      "  warnings.warn(msg.format(self.name()))\n",
      "C:\\Users\\user\\Anaconda3\\envs\\xclim_env\\lib\\site-packages\\iris\\coords.py:2220: UserWarning: Collapsing a non-contiguous coordinate. Metadata may not be fully descriptive for 'time'.\n",
      "  warnings.warn(msg.format(self.name()))\n"
     ]
    },
    {
     "name": "stdout",
     "output_type": "stream",
     "text": [
      "7.424285714285715\n",
      "MIROC\n",
      "ssp585_ff\n",
      "8.550714285714287\n"
     ]
    },
    {
     "name": "stderr",
     "output_type": "stream",
     "text": [
      "C:\\Users\\user\\Anaconda3\\envs\\xclim_env\\lib\\site-packages\\iris\\coords.py:2220: UserWarning: Collapsing a non-contiguous coordinate. Metadata may not be fully descriptive for 'time'.\n",
      "  warnings.warn(msg.format(self.name()))\n"
     ]
    },
    {
     "name": "stdout",
     "output_type": "stream",
     "text": [
      "MPI-ESM1-2-LR\n",
      "ssp245_nf\n",
      "7.473000000000001\n",
      "MPI-ESM1-2-LR\n",
      "ssp245_ff\n"
     ]
    },
    {
     "name": "stderr",
     "output_type": "stream",
     "text": [
      "C:\\Users\\user\\Anaconda3\\envs\\xclim_env\\lib\\site-packages\\iris\\coords.py:2220: UserWarning: Collapsing a non-contiguous coordinate. Metadata may not be fully descriptive for 'time'.\n",
      "  warnings.warn(msg.format(self.name()))\n",
      "C:\\Users\\user\\Anaconda3\\envs\\xclim_env\\lib\\site-packages\\iris\\coords.py:2220: UserWarning: Collapsing a non-contiguous coordinate. Metadata may not be fully descriptive for 'time'.\n",
      "  warnings.warn(msg.format(self.name()))\n"
     ]
    },
    {
     "name": "stdout",
     "output_type": "stream",
     "text": [
      "8.716999999999999\n",
      "MPI-ESM1-2-LR\n",
      "ssp585_ff\n",
      "8.132\n",
      "NESM\n",
      "ssp245_nf\n"
     ]
    },
    {
     "name": "stderr",
     "output_type": "stream",
     "text": [
      "C:\\Users\\user\\Anaconda3\\envs\\xclim_env\\lib\\site-packages\\iris\\coords.py:2220: UserWarning: Collapsing a non-contiguous coordinate. Metadata may not be fully descriptive for 'time'.\n",
      "  warnings.warn(msg.format(self.name()))\n",
      "C:\\Users\\user\\Anaconda3\\envs\\xclim_env\\lib\\site-packages\\iris\\coords.py:2220: UserWarning: Collapsing a non-contiguous coordinate. Metadata may not be fully descriptive for 'time'.\n",
      "  warnings.warn(msg.format(self.name()))\n"
     ]
    },
    {
     "name": "stdout",
     "output_type": "stream",
     "text": [
      "14.183\n",
      "NESM\n",
      "ssp245_ff\n",
      "18.29\n",
      "NESM\n",
      "ssp585_ff\n"
     ]
    },
    {
     "name": "stderr",
     "output_type": "stream",
     "text": [
      "C:\\Users\\user\\Anaconda3\\envs\\xclim_env\\lib\\site-packages\\iris\\coords.py:2220: UserWarning: Collapsing a non-contiguous coordinate. Metadata may not be fully descriptive for 'time'.\n",
      "  warnings.warn(msg.format(self.name()))\n",
      "C:\\Users\\user\\Anaconda3\\envs\\xclim_env\\lib\\site-packages\\iris\\coords.py:2220: UserWarning: Collapsing a non-contiguous coordinate. Metadata may not be fully descriptive for 'time'.\n",
      "  warnings.warn(msg.format(self.name()))\n"
     ]
    },
    {
     "name": "stdout",
     "output_type": "stream",
     "text": [
      "22.052000000000003\n",
      "NorESM2-LM\n",
      "ssp245_nf\n",
      "7.036249999999998\n"
     ]
    },
    {
     "name": "stderr",
     "output_type": "stream",
     "text": [
      "C:\\Users\\user\\Anaconda3\\envs\\xclim_env\\lib\\site-packages\\iris\\coords.py:2220: UserWarning: Collapsing a non-contiguous coordinate. Metadata may not be fully descriptive for 'time'.\n",
      "  warnings.warn(msg.format(self.name()))\n",
      "C:\\Users\\user\\Anaconda3\\envs\\xclim_env\\lib\\site-packages\\iris\\coords.py:2220: UserWarning: Collapsing a non-contiguous coordinate. Metadata may not be fully descriptive for 'time'.\n",
      "  warnings.warn(msg.format(self.name()))\n"
     ]
    },
    {
     "name": "stdout",
     "output_type": "stream",
     "text": [
      "NorESM2-LM\n",
      "ssp245_ff\n",
      "8.49375\n",
      "NorESM2-LM\n",
      "ssp585_ff\n"
     ]
    },
    {
     "name": "stderr",
     "output_type": "stream",
     "text": [
      "C:\\Users\\user\\Anaconda3\\envs\\xclim_env\\lib\\site-packages\\iris\\coords.py:2220: UserWarning: Collapsing a non-contiguous coordinate. Metadata may not be fully descriptive for 'time'.\n",
      "  warnings.warn(msg.format(self.name()))\n"
     ]
    },
    {
     "name": "stdout",
     "output_type": "stream",
     "text": [
      "12.113750000000001\n",
      "NorESM2-MM\n",
      "ssp245_nf\n"
     ]
    },
    {
     "name": "stderr",
     "output_type": "stream",
     "text": [
      "C:\\Users\\user\\Anaconda3\\envs\\xclim_env\\lib\\site-packages\\iris\\coords.py:2220: UserWarning: Collapsing a non-contiguous coordinate. Metadata may not be fully descriptive for 'time'.\n",
      "  warnings.warn(msg.format(self.name()))\n",
      "C:\\Users\\user\\Anaconda3\\envs\\xclim_env\\lib\\site-packages\\iris\\coords.py:2220: UserWarning: Collapsing a non-contiguous coordinate. Metadata may not be fully descriptive for 'time'.\n",
      "  warnings.warn(msg.format(self.name()))\n"
     ]
    },
    {
     "name": "stdout",
     "output_type": "stream",
     "text": [
      "6.842578124999999\n",
      "NorESM2-MM\n",
      "ssp245_ff\n",
      "7.562109375\n",
      "NorESM2-MM\n",
      "ssp585_ff\n",
      "10.851953125\n",
      "TaiESM\n",
      "ssp245_nf\n",
      "8.023828125\n"
     ]
    },
    {
     "name": "stderr",
     "output_type": "stream",
     "text": [
      "C:\\Users\\user\\Anaconda3\\envs\\xclim_env\\lib\\site-packages\\iris\\coords.py:2220: UserWarning: Collapsing a non-contiguous coordinate. Metadata may not be fully descriptive for 'time'.\n",
      "  warnings.warn(msg.format(self.name()))\n",
      "C:\\Users\\user\\Anaconda3\\envs\\xclim_env\\lib\\site-packages\\iris\\coords.py:2220: UserWarning: Collapsing a non-contiguous coordinate. Metadata may not be fully descriptive for 'time'.\n",
      "  warnings.warn(msg.format(self.name()))\n"
     ]
    },
    {
     "name": "stdout",
     "output_type": "stream",
     "text": [
      "TaiESM\n",
      "ssp245_ff\n",
      "8.868749999999999\n",
      "TaiESM\n",
      "ssp585_ff\n",
      "13.040625\n"
     ]
    },
    {
     "name": "stderr",
     "output_type": "stream",
     "text": [
      "C:\\Users\\user\\Anaconda3\\envs\\xclim_env\\lib\\site-packages\\iris\\coords.py:2220: UserWarning: Collapsing a non-contiguous coordinate. Metadata may not be fully descriptive for 'time'.\n",
      "  warnings.warn(msg.format(self.name()))\n",
      "C:\\Users\\user\\Anaconda3\\envs\\xclim_env\\lib\\site-packages\\iris\\coords.py:2220: UserWarning: Collapsing a non-contiguous coordinate. Metadata may not be fully descriptive for 'time'.\n",
      "  warnings.warn(msg.format(self.name()))\n"
     ]
    },
    {
     "name": "stdout",
     "output_type": "stream",
     "text": [
      "UKESM\n",
      "ssp245_nf\n",
      "13.272142857142857\n",
      "UKESM\n",
      "ssp245_ff\n"
     ]
    },
    {
     "name": "stderr",
     "output_type": "stream",
     "text": [
      "C:\\Users\\user\\Anaconda3\\envs\\xclim_env\\lib\\site-packages\\iris\\coords.py:2220: UserWarning: Collapsing a non-contiguous coordinate. Metadata may not be fully descriptive for 'time'.\n",
      "  warnings.warn(msg.format(self.name()))\n",
      "C:\\Users\\user\\Anaconda3\\envs\\xclim_env\\lib\\site-packages\\iris\\coords.py:2220: UserWarning: Collapsing a non-contiguous coordinate. Metadata may not be fully descriptive for 'time'.\n",
      "  warnings.warn(msg.format(self.name()))\n"
     ]
    },
    {
     "name": "stdout",
     "output_type": "stream",
     "text": [
      "18.04357142857143\n",
      "UKESM\n",
      "ssp585_ff\n",
      "21.72357142857143\n"
     ]
    },
    {
     "name": "stderr",
     "output_type": "stream",
     "text": [
      "C:\\Users\\user\\Anaconda3\\envs\\xclim_env\\lib\\site-packages\\iris\\coords.py:2220: UserWarning: Collapsing a non-contiguous coordinate. Metadata may not be fully descriptive for 'time'.\n",
      "  warnings.warn(msg.format(self.name()))\n"
     ]
    }
   ],
   "source": [
    "# Calculate long-term mean and concatenate into time series\n",
    "\n",
    "models = ['ACCESS-CM', 'ACCESS-ESM', 'CanESM',\n",
    "          'CNRM-CM', 'CNRM-ESM', 'FGOALS-g3', \n",
    "          'GFDL', 'HadGEM3-GC31-LL', 'INM-CM4', 'INM-CM5', \n",
    "          'IPSL', 'MIROC', 'MPI-ESM1-2-LR', 'MRI', 'NESM', 'NorESM2-LM',\n",
    "          'NorESM2-MM', 'TaiESM', 'UKESM', 'CMCC-CM', 'CMCC-ESM', 'KIOST']\n",
    "\n",
    "scenarios = ['ssp245_nf', 'ssp245_ff', 'ssp585_nf', 'ssp585_ff']\n",
    "\n",
    "for model in models[0:]:\n",
    "    for scenario in scenarios[0:]:\n",
    "        print(model)\n",
    "        print (scenario)\n",
    "        path = DATA_PATH + model + '/'\n",
    "        max_dry_days_path = iris.load (path + model + '_consec_dry_days_' + scenario + '.nc')\n",
    "        max_dry_days = max_dry_days_path[0]\n",
    "        max_dry_days.coord('lat').guess_bounds()\n",
    "        max_dry_days.coord('lon').guess_bounds()\n",
    "        max_dry_days_ltm = max_dry_days.collapsed('time',\n",
    "                                    iris.analysis.MEAN)\n",
    "        # Perform the area-weighted mean using the computed grid-box areas.\n",
    "        max_dry_days_mean = max_dry_days_ltm.collapsed(['lat', 'lon'],\n",
    "                                        iris.analysis.MEAN)\n",
    "        print (max_dry_days_mean.data)\n",
    "        # Perform the area-weighted mean using the computed grid-box areas.\n",
    "        max_dry_days_mean = max_dry_days.collapsed(['lat', 'lon'],\n",
    "                                    iris.analysis.MEAN)\n",
    "        iris.save (max_dry_days_mean, DATA_PATH + model + '/Borneo_consec_drydays_' + model + '_' + scenario + '.nc')"
   ]
  }
 ],
 "metadata": {
  "kernelspec": {
   "display_name": "xclim",
   "language": "python",
   "name": "xclim_env"
  },
  "language_info": {
   "codemirror_mode": {
    "name": "ipython",
    "version": 3
   },
   "file_extension": ".py",
   "mimetype": "text/x-python",
   "name": "python",
   "nbconvert_exporter": "python",
   "pygments_lexer": "ipython3",
   "version": "3.8.13"
  }
 },
 "nbformat": 4,
 "nbformat_minor": 4
}
